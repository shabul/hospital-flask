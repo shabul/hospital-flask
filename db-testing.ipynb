{
 "cells": [
  {
   "cell_type": "markdown",
   "metadata": {},
   "source": [
    "code reference https://chartio.com/resources/tutorials/how-to-execute-raw-sql-in-sqlalchemy/"
   ]
  },
  {
   "cell_type": "code",
   "execution_count": null,
   "metadata": {},
   "outputs": [],
   "source": []
  },
  {
   "cell_type": "code",
   "execution_count": null,
   "metadata": {},
   "outputs": [],
   "source": []
  },
  {
   "cell_type": "code",
   "execution_count": null,
   "metadata": {},
   "outputs": [],
   "source": []
  },
  {
   "cell_type": "code",
   "execution_count": null,
   "metadata": {},
   "outputs": [],
   "source": []
  },
  {
   "cell_type": "code",
   "execution_count": null,
   "metadata": {},
   "outputs": [],
   "source": [
    "import datetime\n",
    "\n",
    "datetime.datetime.now()\n",
    "\n",
    "import sqlalchemy\n",
    "import pandas as pd\n",
    "\n",
    "from sqlalchemy import inspect\n",
    "\n",
    "#2.-Turn on database engine\n",
    "dbEngine=sqlalchemy.create_engine('sqlite:///../database.db') # ensure this is the correct path for the sqlite file. \n",
    "\n",
    "from utils.models import db, Users,Appointments\n",
    "\n",
    "from sqlalchemy import update\n",
    "\n",
    "\n",
    "# a = update(Appointments)\n",
    "\n",
    "\n",
    "\n",
    "# dbEngine.execute(a)\n",
    "\n",
    "from utils.models import db, Users,Appointments\n",
    "# db.create_all()\n",
    "# from sqlalchemy import create_engine, MetaData,Table, Column, Numeric, Integer, VARCHAR, update, delete\n",
    "# # delete\n",
    "# dele = Appointments.delete()#.where(BOOKS.c.genre == \"non-fiction\")\n",
    " \n",
    "# dbengine.execute(dele)"
   ]
  },
  {
   "cell_type": "markdown",
   "metadata": {},
   "source": [
    "## SLECT COMMANDS\n"
   ]
  },
  {
   "cell_type": "code",
   "execution_count": null,
   "metadata": {
    "scrolled": true
   },
   "outputs": [],
   "source": [
    "with dbEngine.connect() as con:\n",
    "\n",
    "    rs = con.execute('SELECT * FROM Users')\n",
    "\n",
    "    for row in rs:\n",
    "        print(row)\n",
    "        \n",
    "        \n",
    "        "
   ]
  },
  {
   "cell_type": "code",
   "execution_count": null,
   "metadata": {},
   "outputs": [],
   "source": [
    "# with dbEngine.connect() as con:\n",
    "\n",
    "#     rs = con.execute('delete Appointments where 1=1')\n",
    "\n",
    "#     for row in rs:\n",
    "#         print(row)\n",
    "        \n",
    "        \n",
    "        "
   ]
  },
  {
   "cell_type": "code",
   "execution_count": null,
   "metadata": {},
   "outputs": [],
   "source": []
  },
  {
   "cell_type": "code",
   "execution_count": null,
   "metadata": {},
   "outputs": [],
   "source": [
    "with dbEngine.connect() as con:\n",
    "\n",
    "    rs = con.execute('SELECT * FROM Appointments')\n",
    "\n",
    "    for row in rs:\n",
    "        print(row)\n",
    "        \n",
    "        \n",
    "        "
   ]
  },
  {
   "cell_type": "code",
   "execution_count": null,
   "metadata": {},
   "outputs": [],
   "source": [
    "with dbEngine.connect() as con:\n",
    "\n",
    "    rs = con.execute('SELECT * FROM Xtemp')\n",
    "\n",
    "    for row in rs:\n",
    "        print(row)\n",
    "        \n",
    "        "
   ]
  },
  {
   "cell_type": "code",
   "execution_count": null,
   "metadata": {},
   "outputs": [],
   "source": []
  },
  {
   "cell_type": "code",
   "execution_count": null,
   "metadata": {},
   "outputs": [],
   "source": [
    "from utils.models import db, Users\n",
    "\n",
    "new_user = Users(\n",
    "                username='username',\n",
    "                email='email',\n",
    "                password='hashed_password',\n",
    "                    )\n",
    "\n",
    "db.session.add(new_user)\n",
    "db.session.commit()"
   ]
  },
  {
   "cell_type": "code",
   "execution_count": null,
   "metadata": {},
   "outputs": [],
   "source": []
  },
  {
   "cell_type": "code",
   "execution_count": null,
   "metadata": {},
   "outputs": [],
   "source": [
    "from sqlalchemy.sql import text\n",
    "with dbEngine.connect() as con:\n",
    "    \n",
    "    \n",
    "    \n",
    "    \n",
    "    data = (\n",
    "            {'name': 'appointment_id',\n",
    "      'type': db.INTEGER(),\n",
    "      'nullable': False,\n",
    "      'default': None,\n",
    "      'autoincrement': 'auto',\n",
    "      'primary_key': 1},\n",
    "            \n",
    "    )\n",
    "\n",
    "    statement = text(\"\"\"INSERT INTO book(id, title, primary_author) VALUES(:id, :title, :primary_author)\"\"\")\n",
    "\n",
    "    for line in data:\n",
    "        con.execute(statement, **line)"
   ]
  },
  {
   "cell_type": "code",
   "execution_count": null,
   "metadata": {},
   "outputs": [],
   "source": []
  },
  {
   "cell_type": "code",
   "execution_count": 7,
   "metadata": {},
   "outputs": [],
   "source": [
    "d = '2023-01-14' \n",
    "t = '23:47'"
   ]
  },
  {
   "cell_type": "code",
   "execution_count": 8,
   "metadata": {},
   "outputs": [
    {
     "name": "stdout",
     "output_type": "stream",
     "text": [
      "<class 'datetime.date'>\n",
      "2023-01-14\n"
     ]
    }
   ],
   "source": [
    "from datetime import datetime\n",
    "\n",
    "date_str = '09-19-2022'\n",
    "\n",
    "date_object = datetime.strptime(d, '%Y-%m-%d').date()\n",
    "print(type(date_object))\n",
    "print(date_object)  # printed in default format\n"
   ]
  },
  {
   "cell_type": "code",
   "execution_count": 9,
   "metadata": {},
   "outputs": [
    {
     "name": "stdout",
     "output_type": "stream",
     "text": [
      "<class 'datetime.time'>\n",
      "23:47:00\n"
     ]
    }
   ],
   "source": [
    "from datetime import datetime\n",
    "\n",
    "time_object = datetime.strptime(t, '%H:%M').time()\n",
    "print(type(time_object))\n",
    "print(time_object)"
   ]
  },
  {
   "cell_type": "code",
   "execution_count": null,
   "metadata": {},
   "outputs": [],
   "source": []
  }
 ],
 "metadata": {
  "kernelspec": {
   "display_name": "Python 3",
   "language": "python",
   "name": "python3"
  },
  "language_info": {
   "codemirror_mode": {
    "name": "ipython",
    "version": 3
   },
   "file_extension": ".py",
   "mimetype": "text/x-python",
   "name": "python",
   "nbconvert_exporter": "python",
   "pygments_lexer": "ipython3",
   "version": "3.7.6"
  },
  "vscode": {
   "interpreter": {
    "hash": "1b99d3ba7bb7145f5664d3752bf4b0e35fc290d24dcf3e1be9272e7034843894"
   }
  }
 },
 "nbformat": 4,
 "nbformat_minor": 4
}
